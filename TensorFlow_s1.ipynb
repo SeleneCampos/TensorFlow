{
  "nbformat": 4,
  "nbformat_minor": 0,
  "metadata": {
    "colab": {
      "name": "TensorFlow-s1.ipynb",
      "provenance": [],
      "toc_visible": true,
      "authorship_tag": "ABX9TyPOQK92KNSL4Csx3qoGoOVX",
      "include_colab_link": true
    },
    "kernelspec": {
      "name": "python3",
      "display_name": "Python 3"
    }
  },
  "cells": [
    {
      "cell_type": "markdown",
      "metadata": {
        "id": "view-in-github",
        "colab_type": "text"
      },
      "source": [
        "<a href=\"https://colab.research.google.com/github/SeleneCampos/TensorFlow/blob/main/TensorFlow_s1.ipynb\" target=\"_parent\"><img src=\"https://colab.research.google.com/assets/colab-badge.svg\" alt=\"Open In Colab\"/></a>"
      ]
    },
    {
      "cell_type": "markdown",
      "metadata": {
        "id": "S-DQGrMOGYUn"
      },
      "source": [
        "### Tensors\n",
        "\n",
        "\"A tensor is a generalization of vectors and matrices to pontentially higher dimensions. Internally, TensorFlow represents tensors as n-dimensional arrays of base datatypes.\" (https://www.tensorflow.org/guide/tensor)\n",
        "\n",
        "It shouldn't surprise you that tensors are a fundemental aspect of TensorFlow. They are the main objects that are passed around and manipluated throughout the program. Each tensor represents a partialy defined computation that will eventually produce a value. TensorFlow programs work by building a graph of Tensor objects that details how tensors are related. Running different parts of the graph allow results to bbe generated.\n",
        "\n",
        "Each Tensor has a data type and a shape.\n",
        "\n",
        "**Data Types Include:** float 32, int32, string and others.\n",
        "\n",
        "**Shape:** Represents the dimension of data."
      ]
    },
    {
      "cell_type": "code",
      "metadata": {
        "id": "f4UBv5IDIRgf"
      },
      "source": [
        "import tensorflow as tf\n",
        "tf.dtypes.DType?"
      ],
      "execution_count": 2,
      "outputs": []
    },
    {
      "cell_type": "markdown",
      "metadata": {
        "id": "6ItEVhUlHvjU"
      },
      "source": [
        "### Creating Tensors\n",
        "\n",
        "Below is an example of how to create some different tensors."
      ]
    },
    {
      "cell_type": "code",
      "metadata": {
        "id": "2m7rZk5KGSUX"
      },
      "source": [
        "string = tf.Variable(\"this is a string\", tf.string)\n",
        "number = tf.Variable(324, tf.int16)\n",
        "floating = tf.Variable(3.567, tf.float64)\n"
      ],
      "execution_count": null,
      "outputs": []
    },
    {
      "cell_type": "code",
      "metadata": {
        "id": "kGdlBVMrILsf",
        "outputId": "8beb74f9-63f2-4d15-faa0-9f5cf1ee4de1",
        "colab": {
          "base_uri": "https://localhost:8080/",
          "height": 68
        }
      },
      "source": [
        "print(\"string: \", string)\n",
        "print(f\"number: {number}\")\n",
        "print(\"floating: \", floating)"
      ],
      "execution_count": null,
      "outputs": [
        {
          "output_type": "stream",
          "text": [
            "string:  <tf.Variable 'Variable:0' shape=() dtype=string, numpy=b'this is a string'>\n",
            "number: <tf.Variable 'Variable:0' shape=() dtype=int32, numpy=324>\n",
            "floating:  <tf.Variable 'Variable:0' shape=() dtype=float32, numpy=3.567>\n"
          ],
          "name": "stdout"
        }
      ]
    },
    {
      "cell_type": "markdown",
      "metadata": {
        "id": "Jz4sqKQ3uU3J"
      },
      "source": [
        "### Rank/Degree of Tensors\n",
        "\n",
        "Another word for rank is degree, these terms simply mean the number of dimensions involved in the tensor. What we created abbobve is a tensor of rank 0, also kwonw as scalar\n",
        "\n",
        "Now we'll create some tensors of higher degrees/ranks"
      ]
    },
    {
      "cell_type": "code",
      "metadata": {
        "id": "yTKdD_xRupg4"
      },
      "source": [
        "rank1_tensor = tf.Variable([\"Test\"], tf.string)\n",
        "rank2_tensor = tf.Variable([[\"test\", \"ok\", \"Selene\"], [\"test\", \"yes\", \"ok\"]], tf.string)"
      ],
      "execution_count": 9,
      "outputs": []
    },
    {
      "cell_type": "markdown",
      "metadata": {
        "id": "5ZMQZh0hvPM4"
      },
      "source": [
        "**To determine the rank** of a tensor wee can call the following method."
      ]
    },
    {
      "cell_type": "code",
      "metadata": {
        "id": "CkKuuaNku7n4",
        "outputId": "f7cf6967-3aa8-4354-b007-c882a634941d",
        "colab": {
          "base_uri": "https://localhost:8080/",
          "height": 34
        }
      },
      "source": [
        "tf.rank(rank2_tensor)"
      ],
      "execution_count": 5,
      "outputs": [
        {
          "output_type": "execute_result",
          "data": {
            "text/plain": [
              "<tf.Tensor: shape=(), dtype=int32, numpy=2>"
            ]
          },
          "metadata": {
            "tags": []
          },
          "execution_count": 5
        }
      ]
    },
    {
      "cell_type": "markdown",
      "metadata": {
        "id": "4SWJUCJLvrom"
      },
      "source": [
        "### Shape of Tensors\n",
        "\n",
        "Now that we've talked about the rank of tensors it's time to talk about the shape. The shape of a tensor is simply the amount of elements that exist in each dimension. TensorFlow will try to determine the shape of a tensor but sometimes it may be unkwnown.\n",
        "\n",
        "To **get the shape** of a tensor we use the shape attribute"
      ]
    },
    {
      "cell_type": "code",
      "metadata": {
        "id": "3L1hukRKvZaL",
        "outputId": "67feeac1-3d66-43d4-d6ef-3530f7009b2e",
        "colab": {
          "base_uri": "https://localhost:8080/",
          "height": 34
        }
      },
      "source": [
        "rank2_tensor.shape"
      ],
      "execution_count": 10,
      "outputs": [
        {
          "output_type": "execute_result",
          "data": {
            "text/plain": [
              "TensorShape([2, 3])"
            ]
          },
          "metadata": {
            "tags": []
          },
          "execution_count": 10
        }
      ]
    },
    {
      "cell_type": "markdown",
      "metadata": {
        "id": "TMtL8ugWwdwT"
      },
      "source": [
        "### Changing Shape\n",
        "\n",
        "The number of elements of a tensor is the product of the sizes of all its shapes. There are often many shapes that have the same number of elements, making it convenient to be able to change the shape of a tensor.\n",
        "\n",
        "The example below shows how to change the shape of a tensor"
      ]
    },
    {
      "cell_type": "code",
      "metadata": {
        "id": "z9cLRYH7wDPk"
      },
      "source": [
        "tensor1 = tf.ones([1,2,3])  # tf.ones() creates a shape [1,2,3] tensor full of ones\n",
        "tensor2 = tf.reshape(tensor1, [2,3,1])  # reshape exixsting data to shape [2,3,1]\n",
        "tensor3 = tf.reshape(tensor2, [3,-1])   # -1 tells the tensor to calculate the size of the dimension in that place\n",
        "                                        # this will reshape the tensor to [3,2]\n",
        "\n",
        "# The number of elements in the reshaped tensor MUST match the number in the original"
      ],
      "execution_count": 33,
      "outputs": []
    },
    {
      "cell_type": "code",
      "metadata": {
        "id": "l2bFsMGVxhwX",
        "outputId": "e55e1809-fae7-4841-bd07-8a8fdf1a08e8",
        "colab": {
          "base_uri": "https://localhost:8080/",
          "height": 323
        }
      },
      "source": [
        "print(tensor1)\n",
        "print(tensor2)\n",
        "print(tensor3)"
      ],
      "execution_count": 32,
      "outputs": [
        {
          "output_type": "stream",
          "text": [
            "tf.Tensor(\n",
            "[[[1. 1. 1.]\n",
            "  [1. 1. 1.]]], shape=(1, 2, 3), dtype=float32)\n",
            "tf.Tensor(\n",
            "[[[1.]\n",
            "  [1.]\n",
            "  [1.]]\n",
            "\n",
            " [[1.]\n",
            "  [1.]\n",
            "  [1.]]], shape=(2, 3, 1), dtype=float32)\n",
            "tf.Tensor(\n",
            "[[1.]\n",
            " [1.]\n",
            " [1.]\n",
            " [1.]\n",
            " [1.]\n",
            " [1.]], shape=(6, 1), dtype=float32)\n"
          ],
          "name": "stdout"
        }
      ]
    },
    {
      "cell_type": "markdown",
      "metadata": {
        "id": "CFm2XWWJzwc9"
      },
      "source": [
        "### Types of Tensors\n",
        "\n",
        "Before we go to far I will mention that there are different types of tensors. These are most commonly used and we will talk more in depth about each as they are used.\n",
        "\n",
        "\n",
        "*   Variable\n",
        "*   Constant\n",
        "*   Placeholder\n",
        "*   SparseTensor\n",
        "\n",
        "With the exception of **Variable** all of these tensors are immuttable, meaning their value may not change during execution.\n",
        "\n",
        "For now it is sufficient to understand that we use the Variable tensor when we want to potencially change the value of our tensor\n",
        "\n",
        "\n",
        "\n"
      ]
    },
    {
      "cell_type": "markdown",
      "metadata": {
        "id": "eDZb3BPt0e3I"
      },
      "source": [
        "### Evaluating Tensors\n",
        "\n",
        "There will be some times throughout this guide that we need to evaluate a tensor. In other words, get its value. Since tensors represent a partially complete computation we will sometimes need to run what's called a session to evaluate the tensor.\n",
        "\n",
        "There are many different ways to achieve this but I will note the simplest way below."
      ]
    },
    {
      "cell_type": "code",
      "metadata": {
        "id": "NfTw9erIxpCP"
      },
      "source": [
        "with tf.Session() as sess: # creates a session using the default graph\n",
        "  tensor.eval() # tensor will of course bbe the name of your tensor"
      ],
      "execution_count": 35,
      "outputs": []
    },
    {
      "cell_type": "markdown",
      "metadata": {
        "id": "vho-v_hq1pik"
      },
      "source": [
        "In the code above we evaluated the tensor variable that was stored in the **default graph**. The default graph holds all operations not specififed to any other graph. It is possible to create our own separate graphs but for now we will stick with the default.\n"
      ]
    },
    {
      "cell_type": "markdown",
      "metadata": {
        "id": "Kls00jxO19PE"
      },
      "source": [
        "### Sources\n",
        "\n",
        "Most of the information is taken directly from the TensorFlow website wich can be found below.\n",
        "\n",
        "http://www.tensorflow.org/guide/tensor"
      ]
    },
    {
      "cell_type": "code",
      "metadata": {
        "id": "fk93PN3g182i"
      },
      "source": [
        ""
      ],
      "execution_count": null,
      "outputs": []
    }
  ]
}